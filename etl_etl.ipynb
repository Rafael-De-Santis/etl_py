{
 "cells": [
  {
   "cell_type": "code",
   "execution_count": 48,
   "metadata": {},
   "outputs": [
    {
     "name": "stdout",
     "output_type": "stream",
     "text": [
      "Connected to MySQL Server version 8.1.0\n",
      "You're connected to the database:  ('classicmodels',)\n",
      "importing rows 0 to 122... for table [(103, 'Atelier graphique', 'Schmitt', 'Carine ', '40.32.2555', '54, rue Royale', None, 'Nantes', None, '44000', 'France', 1370, Decimal('21000.00')), (112, 'Signal Gift Stores', 'King', 'Jean', '7025551838', '8489 Strong St.', None, 'Las Vegas', 'NV', '83030', 'USA', 1166, Decimal('71800.00')), (114, 'Australian Collectors, Co.', 'Ferguson', 'Peter', '03 9520 4555', '636 St Kilda Road', 'Level 3', 'Melbourne', 'Victoria', '3004', 'Australia', 1611, Decimal('117300.00')), (119, 'La Rochelle Gifts', 'Labrune', 'Janine ', '40.67.8555', '67, rue des Cinquante Otages', None, 'Nantes', None, '44000', 'France', 1370, Decimal('118200.00')), (121, 'Baane Mini Imports', 'Bergulfsen', 'Jonas ', '07-98 9555', 'Erling Skakkes gate 78', None, 'Stavern', None, '4110', 'Norway', 1504, Decimal('81700.00')), (124, 'Mini Gifts Distributors Ltd.', 'Nelson', 'Susan', '4155551450', '5677 Strong St.', None, 'San Rafael', 'CA', '97562', 'USA', 1165, Decimal('210500.00')), (125, 'Havel & Zbyszek Co', 'Piestrzeniewicz', 'Zbyszek ', '(26) 642-7555', 'ul. Filtrowa 68', None, 'Warszawa', None, '01-012', 'Poland', None, Decimal('0.00')), (128, 'Blauer See Auto, Co.', 'Keitel', 'Roland', '+49 69 66 90 2555', 'Lyonerstr. 34', None, 'Frankfurt', None, '60528', 'Germany', 1504, Decimal('59700.00')), (129, 'Mini Wheels Co.', 'Murphy', 'Julie', '6505555787', '5557 North Pendale Street', None, 'San Francisco', 'CA', '94217', 'USA', 1165, Decimal('64600.00')), (131, 'Land of Toys Inc.', 'Lee', 'Kwai', '2125557818', '897 Long Airport Avenue', None, 'NYC', 'NY', '10022', 'USA', 1323, Decimal('114900.00')), (141, 'Euro+ Shopping Channel', 'Freyre', 'Diego ', '(91) 555 94 44', 'C/ Moralzarzal, 86', None, 'Madrid', None, '28034', 'Spain', 1370, Decimal('227600.00')), (144, 'Volvo Model Replicas, Co', 'Berglund', 'Christina ', '0921-12 3555', 'Berguvsvägen  8', None, 'Luleå', None, 'S-958 22', 'Sweden', 1504, Decimal('53100.00')), (145, 'Danish Wholesale Imports', 'Petersen', 'Jytte ', '31 12 3555', 'Vinbæltet 34', None, 'Kobenhavn', None, '1734', 'Denmark', 1401, Decimal('83400.00')), (146, 'Saveley & Henriot, Co.', 'Saveley', 'Mary ', '78.32.5555', '2, rue du Commerce', None, 'Lyon', None, '69004', 'France', 1337, Decimal('123900.00')), (148, 'Dragon Souveniers, Ltd.', 'Natividad', 'Eric', '+65 221 7555', 'Bronz Sok.', 'Bronz Apt. 3/6 Tesvikiye', 'Singapore', None, '079903', 'Singapore', 1621, Decimal('103800.00')), (151, 'Muscle Machine Inc', 'Young', 'Jeff', '2125557413', '4092 Furth Circle', 'Suite 400', 'NYC', 'NY', '10022', 'USA', 1286, Decimal('138500.00')), (157, 'Diecast Classics Inc.', 'Leong', 'Kelvin', '2155551555', '7586 Pompton St.', None, 'Allentown', 'PA', '70267', 'USA', 1216, Decimal('100600.00')), (161, 'Technics Stores Inc.', 'Hashimoto', 'Juri', '6505556809', '9408 Furth Circle', None, 'Burlingame', 'CA', '94217', 'USA', 1165, Decimal('84600.00')), (166, 'Handji Gifts& Co', 'Victorino', 'Wendy', '+65 224 1555', '106 Linden Road Sandown', '2nd Floor', 'Singapore', None, '069045', 'Singapore', 1612, Decimal('97900.00')), (167, 'Herkku Gifts', 'Oeztan', 'Veysel', '+47 2267 3215', 'Brehmen St. 121', 'PR 334 Sentrum', 'Bergen', None, 'N 5804', 'Norway  ', 1504, Decimal('96800.00')), (168, 'American Souvenirs Inc', 'Franco', 'Keith', '2035557845', '149 Spinnaker Dr.', 'Suite 101', 'New Haven', 'CT', '97823', 'USA', 1286, Decimal('0.00')), (169, 'Porto Imports Co.', 'de Castro', 'Isabel ', '(1) 356-5555', 'Estrada da saúde n. 58', None, 'Lisboa', None, '1756', 'Portugal', None, Decimal('0.00')), (171, 'Daedalus Designs Imports', 'Rancé', 'Martine ', '20.16.1555', '184, chaussée de Tournai', None, 'Lille', None, '59000', 'France', 1370, Decimal('82900.00')), (172, \"La Corne D'abondance, Co.\", 'Bertrand', 'Marie', '(1) 42.34.2555', '265, boulevard Charonne', None, 'Paris', None, '75012', 'France', 1337, Decimal('84300.00')), (173, 'Cambridge Collectables Co.', 'Tseng', 'Jerry', '6175555555', '4658 Baden Av.', None, 'Cambridge', 'MA', '51247', 'USA', 1188, Decimal('43400.00')), (175, 'Gift Depot Inc.', 'King', 'Julie', '2035552570', '25593 South Bay Ln.', None, 'Bridgewater', 'CT', '97562', 'USA', 1323, Decimal('84300.00')), (177, 'Osaka Souveniers Co.', 'Kentary', 'Mory', '+81 06 6342 5555', '1-6-20 Dojima', None, 'Kita-ku', 'Osaka', ' 530-0003', 'Japan', 1621, Decimal('81200.00')), (181, 'Vitachrome Inc.', 'Frick', 'Michael', '2125551500', '2678 Kingston Rd.', 'Suite 101', 'NYC', 'NY', '10022', 'USA', 1286, Decimal('76400.00')), (186, 'Toys of Finland, Co.', 'Karttunen', 'Matti', '90-224 8555', 'Keskuskatu 45', None, 'Helsinki', None, '21240', 'Finland', 1501, Decimal('96500.00')), (187, 'AV Stores, Co.', 'Ashworth', 'Rachel', '(171) 555-1555', 'Fauntleroy Circus', None, 'Manchester', None, 'EC2 5NT', 'UK', 1501, Decimal('136800.00')), (189, 'Clover Collections, Co.', 'Cassidy', 'Dean', '+353 1862 1555', '25 Maiden Lane', 'Floor No. 4', 'Dublin', None, '2', 'Ireland', 1504, Decimal('69400.00')), (198, 'Auto-Moto Classics Inc.', 'Taylor', 'Leslie', '6175558428', '16780 Pompton St.', None, 'Brickhaven', 'MA', '58339', 'USA', 1216, Decimal('23000.00')), (201, 'UK Collectables, Ltd.', 'Devon', 'Elizabeth', '(171) 555-2282', '12, Berkeley Gardens Blvd', None, 'Liverpool', None, 'WX1 6LT', 'UK', 1501, Decimal('92700.00')), (202, 'Canadian Gift Exchange Network', 'Tamuri', 'Yoshi ', '(604) 555-3392', '1900 Oak St.', None, 'Vancouver', 'BC', 'V3F 2K1', 'Canada', 1323, Decimal('90300.00')), (204, 'Online Mini Collectables', 'Barajas', 'Miguel', '6175557555', '7635 Spinnaker Dr.', None, 'Brickhaven', 'MA', '58339', 'USA', 1188, Decimal('68700.00')), (205, 'Toys4GrownUps.com', 'Young', 'Julie', '6265557265', '78934 Hillside Dr.', None, 'Pasadena', 'CA', '90003', 'USA', 1166, Decimal('90700.00')), (206, 'Asian Shopping Network, Co', 'Walker', 'Brydey', '+612 9411 1555', 'Suntec Tower Three', '8 Temasek', 'Singapore', None, '038988', 'Singapore', None, Decimal('0.00')), (209, 'Mini Caravy', 'Citeaux', 'Frédérique ', '88.60.1555', '24, place Kléber', None, 'Strasbourg', None, '67000', 'France', 1370, Decimal('53800.00')), (211, 'King Kong Collectables, Co.', 'Gao', 'Mike', '+852 2251 1555', 'Bank of China Tower', '1 Garden Road', 'Central Hong Kong', None, None, 'Hong Kong', 1621, Decimal('58600.00')), (216, 'Enaco Distributors', 'Saavedra', 'Eduardo ', '(93) 203 4555', 'Rambla de Cataluña, 23', None, 'Barcelona', None, '08022', 'Spain', 1702, Decimal('60300.00')), (219, 'Boards & Toys Co.', 'Young', 'Mary', '3105552373', '4097 Douglas Av.', None, 'Glendale', 'CA', '92561', 'USA', 1166, Decimal('11000.00')), (223, 'Natürlich Autos', 'Kloss', 'Horst ', '0372-555188', 'Taucherstraße 10', None, 'Cunewalde', None, '01307', 'Germany', None, Decimal('0.00')), (227, 'Heintze Collectables', 'Ibsen', 'Palle', '86 21 3555', 'Smagsloget 45', None, 'Århus', None, '8200', 'Denmark', 1401, Decimal('120800.00')), (233, 'Québec Home Shopping Network', 'Fresnière', 'Jean ', '(514) 555-8054', '43 rue St. Laurent', None, 'Montréal', 'Québec', 'H1J 1C3', 'Canada', 1286, Decimal('48700.00')), (237, 'ANG Resellers', 'Camino', 'Alejandra ', '(91) 745 6555', 'Gran Vía, 1', None, 'Madrid', None, '28001', 'Spain', None, Decimal('0.00')), (239, 'Collectable Mini Designs Co.', 'Thompson', 'Valarie', '7605558146', '361 Furth Circle', None, 'San Diego', 'CA', '91217', 'USA', 1166, Decimal('105000.00')), (240, 'giftsbymail.co.uk', 'Bennett', 'Helen ', '(198) 555-8888', 'Garden House', 'Crowther Way 23', 'Cowes', 'Isle of Wight', 'PO31 7PJ', 'UK', 1501, Decimal('93900.00')), (242, 'Alpha Cognac', 'Roulet', 'Annette ', '61.77.6555', '1 rue Alsace-Lorraine', None, 'Toulouse', None, '31000', 'France', 1370, Decimal('61100.00')), (247, 'Messner Shopping Network', 'Messner', 'Renate ', '069-0555984', 'Magazinweg 7', None, 'Frankfurt', None, '60528', 'Germany', None, Decimal('0.00')), (249, 'Amica Models & Co.', 'Accorti', 'Paolo ', '011-4988555', 'Via Monte Bianco 34', None, 'Torino', None, '10100', 'Italy', 1401, Decimal('113000.00')), (250, 'Lyon Souveniers', 'Da Silva', 'Daniel', '+33 1 46 62 7555', '27 rue du Colonel Pierre Avia', None, 'Paris', None, '75508', 'France', 1337, Decimal('68100.00')), (256, 'Auto Associés & Cie.', 'Tonini', 'Daniel ', '30.59.8555', \"67, avenue de l'Europe\", None, 'Versailles', None, '78000', 'France', 1370, Decimal('77900.00')), (259, 'Toms Spezialitäten, Ltd', 'Pfalzheim', 'Henriette ', '0221-5554327', 'Mehrheimerstr. 369', None, 'Köln', None, '50739', 'Germany', 1504, Decimal('120400.00')), (260, 'Royal Canadian Collectables, Ltd.', 'Lincoln', 'Elizabeth ', '(604) 555-4555', '23 Tsawassen Blvd.', None, 'Tsawassen', 'BC', 'T2F 8M4', 'Canada', 1323, Decimal('89600.00')), (273, 'Franken Gifts, Co', 'Franken', 'Peter ', '089-0877555', 'Berliner Platz 43', None, 'München', None, '80805', 'Germany', None, Decimal('0.00')), (276, \"Anna's Decorations, Ltd\", \"O'Hara\", 'Anna', '02 9936 8555', '201 Miller Street', 'Level 15', 'North Sydney', 'NSW', '2060', 'Australia', 1611, Decimal('107800.00')), (278, 'Rovelli Gifts', 'Rovelli', 'Giovanni ', '035-640555', 'Via Ludovico il Moro 22', None, 'Bergamo', None, '24100', 'Italy', 1401, Decimal('119600.00')), (282, 'Souveniers And Things Co.', 'Huxley', 'Adrian', '+61 2 9495 8555', 'Monitor Money Building', '815 Pacific Hwy', 'Chatswood', 'NSW', '2067', 'Australia', 1611, Decimal('93300.00')), (286, \"Marta's Replicas Co.\", 'Hernandez', 'Marta', '6175558555', '39323 Spinnaker Dr.', None, 'Cambridge', 'MA', '51247', 'USA', 1216, Decimal('123700.00')), (293, 'BG&E Collectables', 'Harrison', 'Ed', '+41 26 425 50 01', 'Rte des Arsenaux 41 ', None, 'Fribourg', None, '1700', 'Switzerland', None, Decimal('0.00')), (298, 'Vida Sport, Ltd', 'Holz', 'Mihael', '0897-034555', 'Grenzacherweg 237', None, 'Genève', None, '1203', 'Switzerland', 1702, Decimal('141300.00')), (299, 'Norway Gifts By Mail, Co.', 'Klaeboe', 'Jan', '+47 2212 1555', 'Drammensveien 126A', 'PB 211 Sentrum', 'Oslo', None, 'N 0106', 'Norway  ', 1504, Decimal('95100.00')), (303, 'Schuyler Imports', 'Schuyler', 'Bradley', '+31 20 491 9555', 'Kingsfordweg 151', None, 'Amsterdam', None, '1043 GR', 'Netherlands', None, Decimal('0.00')), (307, 'Der Hund Imports', 'Andersen', 'Mel', '030-0074555', 'Obere Str. 57', None, 'Berlin', None, '12209', 'Germany', None, Decimal('0.00')), (311, 'Oulu Toy Supplies, Inc.', 'Koskitalo', 'Pirkko', '981-443655', 'Torikatu 38', None, 'Oulu', None, '90110', 'Finland', 1501, Decimal('90500.00')), (314, 'Petit Auto', 'Dewey', 'Catherine ', '(02) 5554 67', 'Rue Joseph-Bens 532', None, 'Bruxelles', None, 'B-1180', 'Belgium', 1401, Decimal('79900.00')), (319, 'Mini Classics', 'Frick', 'Steve', '9145554562', '3758 North Pendale Street', None, 'White Plains', 'NY', '24067', 'USA', 1323, Decimal('102700.00')), (320, 'Mini Creations Ltd.', 'Huang', 'Wing', '5085559555', '4575 Hillside Dr.', None, 'New Bedford', 'MA', '50553', 'USA', 1188, Decimal('94500.00')), (321, 'Corporate Gift Ideas Co.', 'Brown', 'Julie', '6505551386', '7734 Strong St.', None, 'San Francisco', 'CA', '94217', 'USA', 1165, Decimal('105000.00')), (323, 'Down Under Souveniers, Inc', 'Graham', 'Mike', '+64 9 312 5555', '162-164 Grafton Road', 'Level 2', 'Auckland  ', None, None, 'New Zealand', 1612, Decimal('88000.00')), (324, 'Stylish Desk Decors, Co.', 'Brown', 'Ann ', '(171) 555-0297', '35 King George', None, 'London', None, 'WX3 6FW', 'UK', 1501, Decimal('77000.00')), (328, 'Tekni Collectables Inc.', 'Brown', 'William', '2015559350', '7476 Moss Rd.', None, 'Newark', 'NJ', '94019', 'USA', 1323, Decimal('43000.00')), (333, 'Australian Gift Network, Co', 'Calaghan', 'Ben', '61-7-3844-6555', '31 Duncan St. West End', None, 'South Brisbane', 'Queensland', '4101', 'Australia', 1611, Decimal('51600.00')), (334, 'Suominen Souveniers', 'Suominen', 'Kalle', '+358 9 8045 555', 'Software Engineering Center', 'SEC Oy', 'Espoo', None, 'FIN-02271', 'Finland', 1501, Decimal('98800.00')), (335, 'Cramer Spezialitäten, Ltd', 'Cramer', 'Philip ', '0555-09555', 'Maubelstr. 90', None, 'Brandenburg', None, '14776', 'Germany', None, Decimal('0.00')), (339, 'Classic Gift Ideas, Inc', 'Cervantes', 'Francisca', '2155554695', '782 First Street', None, 'Philadelphia', 'PA', '71270', 'USA', 1188, Decimal('81100.00')), (344, 'CAF Imports', 'Fernandez', 'Jesus', '+34 913 728 555', 'Merchants House', \"27-30 Merchant's Quay\", 'Madrid', None, '28023', 'Spain', 1702, Decimal('59600.00')), (347, \"Men 'R' US Retailers, Ltd.\", 'Chandler', 'Brian', '2155554369', '6047 Douglas Av.', None, 'Los Angeles', 'CA', '91003', 'USA', 1166, Decimal('57700.00')), (348, 'Asian Treasures, Inc.', 'McKenna', 'Patricia ', '2967 555', '8 Johnstown Road', None, 'Cork', 'Co. Cork', None, 'Ireland', None, Decimal('0.00')), (350, 'Marseille Mini Autos', 'Lebihan', 'Laurence ', '91.24.4555', '12, rue des Bouchers', None, 'Marseille', None, '13008', 'France', 1337, Decimal('65000.00')), (353, 'Reims Collectables', 'Henriot', 'Paul ', '26.47.1555', \"59 rue de l'Abbaye\", None, 'Reims', None, '51100', 'France', 1337, Decimal('81100.00')), (356, 'SAR Distributors, Co', 'Kuger', 'Armand', '+27 21 550 3555', '1250 Pretorius Street', None, 'Hatfield', 'Pretoria', '0028', 'South Africa', None, Decimal('0.00')), (357, 'GiftsForHim.com', 'MacKinlay', 'Wales', '64-9-3763555', '199 Great North Road', None, 'Auckland', None, None, 'New Zealand', 1612, Decimal('77700.00')), (361, 'Kommission Auto', 'Josephs', 'Karin', '0251-555259', 'Luisenstr. 48', None, 'Münster', None, '44087', 'Germany', None, Decimal('0.00')), (362, 'Gifts4AllAges.com', 'Yoshido', 'Juri', '6175559555', '8616 Spinnaker Dr.', None, 'Boston', 'MA', '51003', 'USA', 1216, Decimal('41900.00')), (363, 'Online Diecast Creations Co.', 'Young', 'Dorothy', '6035558647', '2304 Long Airport Avenue', None, 'Nashua', 'NH', '62005', 'USA', 1216, Decimal('114200.00')), (369, 'Lisboa Souveniers, Inc', 'Rodriguez', 'Lino ', '(1) 354-2555', 'Jardim das rosas n. 32', None, 'Lisboa', None, '1675', 'Portugal', None, Decimal('0.00')), (376, 'Precious Collectables', 'Urs', 'Braun', '0452-076555', 'Hauptstr. 29', None, 'Bern', None, '3012', 'Switzerland', 1702, Decimal('0.00')), (379, 'Collectables For Less Inc.', 'Nelson', 'Allen', '6175558555', '7825 Douglas Av.', None, 'Brickhaven', 'MA', '58339', 'USA', 1188, Decimal('70700.00')), (381, 'Royale Belge', 'Cartrain', 'Pascale ', '(071) 23 67 2555', 'Boulevard Tirou, 255', None, 'Charleroi', None, 'B-6000', 'Belgium', 1401, Decimal('23500.00')), (382, 'Salzburg Collectables', 'Pipps', 'Georg ', '6562-9555', 'Geislweg 14', None, 'Salzburg', None, '5020', 'Austria', 1401, Decimal('71700.00')), (385, 'Cruz & Sons Co.', 'Cruz', 'Arnold', '+63 2 555 3587', '15 McCallum Street', 'NatWest Center #13-03', 'Makati City', None, '1227 MM', 'Philippines', 1621, Decimal('81500.00')), (386, \"L'ordine Souveniers\", 'Moroni', 'Maurizio ', '0522-556555', 'Strada Provinciale 124', None, 'Reggio Emilia', None, '42100', 'Italy', 1401, Decimal('121400.00')), (398, 'Tokyo Collectables, Ltd', 'Shimamura', 'Akiko', '+81 3 3584 0555', '2-2-8 Roppongi', None, 'Minato-ku', 'Tokyo', '106-0032', 'Japan', 1621, Decimal('94400.00')), (406, 'Auto Canal+ Petit', 'Perrier', 'Dominique', '(1) 47.55.6555', '25, rue Lauriston', None, 'Paris', None, '75016', 'France', 1337, Decimal('95000.00')), (409, 'Stuttgart Collectable Exchange', 'Müller', 'Rita ', '0711-555361', 'Adenauerallee 900', None, 'Stuttgart', None, '70563', 'Germany', None, Decimal('0.00')), (412, 'Extreme Desk Decorations, Ltd', 'McRoy', 'Sarah', '04 499 9555', '101 Lambton Quay', 'Level 11', 'Wellington', None, None, 'New Zealand', 1612, Decimal('86800.00')), (415, 'Bavarian Collectables Imports, Co.', 'Donnermeyer', 'Michael', ' +49 89 61 08 9555', 'Hansastr. 15', None, 'Munich', None, '80686', 'Germany', 1504, Decimal('77000.00')), (424, 'Classic Legends Inc.', 'Hernandez', 'Maria', '2125558493', '5905 Pompton St.', 'Suite 750', 'NYC', 'NY', '10022', 'USA', 1286, Decimal('67500.00')), (443, 'Feuer Online Stores, Inc', 'Feuer', 'Alexander ', '0342-555176', 'Heerstr. 22', None, 'Leipzig', None, '04179', 'Germany', None, Decimal('0.00')), (447, 'Gift Ideas Corp.', 'Lewis', 'Dan', '2035554407', '2440 Pompton St.', None, 'Glendale', 'CT', '97561', 'USA', 1323, Decimal('49700.00')), (448, 'Scandinavian Gift Ideas', 'Larsson', 'Martha', '0695-34 6555', 'Åkergatan 24', None, 'Bräcke', None, 'S-844 67', 'Sweden', 1504, Decimal('116400.00')), (450, 'The Sharp Gifts Warehouse', 'Frick', 'Sue', '4085553659', '3086 Ingle Ln.', None, 'San Jose', 'CA', '94217', 'USA', 1165, Decimal('77600.00')), (452, 'Mini Auto Werke', 'Mendel', 'Roland ', '7675-3555', 'Kirchgasse 6', None, 'Graz', None, '8010', 'Austria', 1401, Decimal('45300.00')), (455, 'Super Scale Inc.', 'Murphy', 'Leslie', '2035559545', '567 North Pendale Street', None, 'New Haven', 'CT', '97823', 'USA', 1286, Decimal('95400.00')), (456, 'Microscale Inc.', 'Choi', 'Yu', '2125551957', '5290 North Pendale Street', 'Suite 200', 'NYC', 'NY', '10022', 'USA', 1286, Decimal('39800.00')), (458, 'Corrida Auto Replicas, Ltd', 'Sommer', 'Martín ', '(91) 555 22 82', 'C/ Araquil, 67', None, 'Madrid', None, '28023', 'Spain', 1702, Decimal('104600.00')), (459, 'Warburg Exchange', 'Ottlieb', 'Sven ', '0241-039123', 'Walserweg 21', None, 'Aachen', None, '52066', 'Germany', None, Decimal('0.00')), (462, 'FunGiftIdeas.com', 'Benitez', 'Violeta', '5085552555', '1785 First Street', None, 'New Bedford', 'MA', '50553', 'USA', 1216, Decimal('85800.00')), (465, 'Anton Designs, Ltd.', 'Anton', 'Carmen', '+34 913 728555', 'c/ Gobelas, 19-1 Urb. La Florida', None, 'Madrid', None, '28023', 'Spain', None, Decimal('0.00')), (471, 'Australian Collectables, Ltd', 'Clenahan', 'Sean', '61-9-3844-6555', '7 Allen Street', None, 'Glen Waverly', 'Victoria', '3150', 'Australia', 1611, Decimal('60300.00')), (473, 'Frau da Collezione', 'Ricotti', 'Franco', '+39 022515555', '20093 Cologno Monzese', 'Alessandro Volta 16', 'Milan', None, None, 'Italy', 1401, Decimal('34800.00')), (475, 'West Coast Collectables Co.', 'Thompson', 'Steve', '3105553722', '3675 Furth Circle', None, 'Burbank', 'CA', '94019', 'USA', 1166, Decimal('55400.00')), (477, 'Mit Vergnügen & Co.', 'Moos', 'Hanna ', '0621-08555', 'Forsterstr. 57', None, 'Mannheim', None, '68306', 'Germany', None, Decimal('0.00')), (480, 'Kremlin Collectables, Co.', 'Semenov', 'Alexander ', '+7 812 293 0521', '2 Pobedy Square', None, 'Saint Petersburg', None, '196143', 'Russia', None, Decimal('0.00')), (481, 'Raanan Stores, Inc', 'Altagar,G M', 'Raanan', '+ 972 9 959 8555', '3 Hagalim Blv.', None, 'Herzlia', None, '47625', 'Israel', None, Decimal('0.00')), (484, 'Iberia Gift Imports, Corp.', 'Roel', 'José Pedro ', '(95) 555 82 82', 'C/ Romero, 33', None, 'Sevilla', None, '41101', 'Spain', 1702, Decimal('65700.00')), (486, 'Motor Mint Distributors Inc.', 'Salazar', 'Rosa', '2155559857', '11328 Douglas Av.', None, 'Philadelphia', 'PA', '71270', 'USA', 1323, Decimal('72600.00')), (487, 'Signal Collectibles Ltd.', 'Taylor', 'Sue', '4155554312', '2793 Furth Circle', None, 'Brisbane', 'CA', '94217', 'USA', 1165, Decimal('60300.00')), (489, 'Double Decker Gift Stores, Ltd', 'Smith', 'Thomas ', '(171) 555-7555', '120 Hanover Sq.', None, 'London', None, 'WA1 1DP', 'UK', 1501, Decimal('43300.00')), (495, 'Diecast Collectables', 'Franco', 'Valarie', '6175552555', '6251 Ingle Ln.', None, 'Boston', 'MA', '51003', 'USA', 1188, Decimal('85100.00')), (496, \"Kelly's Gift Shop\", 'Snowden', 'Tony', '+64 9 5555500', \"Arenales 1938 3'A'\", None, 'Auckland  ', None, None, 'New Zealand', 1612, Decimal('110000.00'))]\n",
      "Data imported sucessful\n",
      "MySQL connection is closed\n"
     ]
    },
    {
     "name": "stderr",
     "output_type": "stream",
     "text": [
      "/var/folders/qf/z_6nd3fj27n0qhtxf_q9fkv80000gn/T/ipykernel_35028/4100881154.py:37: UserWarning: pandas only supports SQLAlchemy connectable (engine/connection) or database string URI or sqlite3 DBAPI2 connection. Other DBAPI2 objects are not tested. Please consider using SQLAlchemy.\n",
      "  df = pd.read_sql_query(f'select * FROM customers', connection)\n"
     ]
    }
   ],
   "source": [
    "from sqlalchemy import create_engine ##to inRWExr with postgre sql\n",
    "import pyodbc ## to query the sql server\n",
    "import pandas as pd ## to data extra and data load\n",
    "import os ##  \n",
    "import requests\n",
    "import mysql.connector\n",
    "from mysql.connector import Error\n",
    "\n",
    "\n",
    "\n",
    "pwd = \"demopass\"\n",
    "uid = \"etl\"\n",
    "server = \"localhost\"\n",
    "\n",
    "## extract data from MySQL\n",
    "def extract():\n",
    "    try:\n",
    "        connection = mysql.connector.connect(host='localhost', \n",
    "                                            database='classicmodels',\n",
    "                                            user=uid,\n",
    "                                            password=pwd)\n",
    "        if connection.is_connected():\n",
    "            db_Info = connection.get_server_info()\n",
    "            print(\"Connected to MySQL Server version\", db_Info)\n",
    "            cursor = connection.cursor()\n",
    "            cursor.execute(\"select database();\")\n",
    "            record = cursor.fetchone()\n",
    "            print(\"You're connected to the database: \", record)\n",
    "\n",
    "            mycursor =  connection.cursor()\n",
    "\n",
    "            mycursor.execute(\"\"\"SELECT * from customers\"\"\")\n",
    "\n",
    "            myresult = mycursor.fetchall()\n",
    "\n",
    "            \n",
    "            df = pd.read_sql_query(f'select * FROM customers', connection)\n",
    "            load(df, myresult)\n",
    "    except Error as e:\n",
    "        print(\"Error while connecting to MySQL\", e)\n",
    "    finally:\n",
    "        if connection.is_connected():\n",
    "            cursor.close()\n",
    "            connection.close()\n",
    "            print(\"MySQL connection is closed\")\n",
    "\n",
    "## load data to postgres\n",
    "def load(df, tbl):\n",
    "    try:\n",
    "        rows_imported = 0\n",
    "        engine = create_engine(f'postgresql://{uid}:{pwd}@{server}:5432/Adventure')\n",
    "        print(f'importing rows {rows_imported} to {rows_imported + len(df)}... for table {tbl}')\n",
    "        #save df to postgres\n",
    "        df.to_sql('fstg_{tbl}', engine, if_exists='replace', index=False)\n",
    "        rows_imported += len(df)\n",
    "        #add elapser time to final print out\n",
    "        print(\"Data imported sucessful\")\n",
    "    except Error as e:\n",
    "        print(\"Data load error: \" + str(e))\n",
    "\n",
    "try:\n",
    "    #call extract function\n",
    "    extract()\n",
    "except Exception as e:\n",
    "    print(\"Error while extracting data: \" + str(e))"
   ]
  },
  {
   "cell_type": "code",
   "execution_count": 41,
   "metadata": {},
   "outputs": [
    {
     "ename": "SyntaxError",
     "evalue": "invalid syntax (3412109671.py, line 13)",
     "output_type": "error",
     "traceback": [
      "\u001b[0;36m  Cell \u001b[0;32mIn[41], line 13\u001b[0;36m\u001b[0m\n\u001b[0;31m    driver =\u001b[0m\n\u001b[0m             ^\u001b[0m\n\u001b[0;31mSyntaxError\u001b[0m\u001b[0;31m:\u001b[0m invalid syntax\n"
     ]
    }
   ],
   "source": []
  },
  {
   "cell_type": "code",
   "execution_count": null,
   "metadata": {},
   "outputs": [],
   "source": []
  }
 ],
 "metadata": {
  "kernelspec": {
   "display_name": "base",
   "language": "python",
   "name": "python3"
  },
  "language_info": {
   "codemirror_mode": {
    "name": "ipython",
    "version": 3
   },
   "file_extension": ".py",
   "mimetype": "text/x-python",
   "name": "python",
   "nbconvert_exporter": "python",
   "pygments_lexer": "ipython3",
   "version": "3.11.5"
  }
 },
 "nbformat": 4,
 "nbformat_minor": 2
}
